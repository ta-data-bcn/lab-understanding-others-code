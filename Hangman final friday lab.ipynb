{
 "cells": [
  {
   "cell_type": "raw",
   "metadata": {},
   "source": [
    "it is a short and clear code. \n",
    "it is absolutly understandable.\n",
    "variables have simple and intelligible names.\n",
    "does not contain unnecessary \"print\" and etc that could be left after checkin process\n",
    "\n",
    "In my code I used randam for a random choise of a hidden word and divided lines with \n",
    "\n",
    "for my code I could apply better discriptions of users steps\n",
    "\n",
    "in code was used:\n",
    "for loop\n",
    "while\n",
    "if else\n"
   ]
  },
  {
   "cell_type": "code",
   "execution_count": 1,
   "metadata": {},
   "outputs": [
    {
     "name": "stdout",
     "output_type": "stream",
     "text": [
      "Let's try to solve the hangman game\n",
      "_ _ _ _ _ \n",
      "Please, enter a letter: j\n",
      "Oh no! The j is not included in the word\n",
      "You have  10  lifes.\n",
      "_ _ _ _ _ \n",
      "Please, enter a letter: 1\n",
      "Oh no! The 1 is not included in the word\n",
      "You have  9  lifes.\n",
      "_ _ _ _ _ \n",
      "Please, enter a letter: h\n",
      "Correct, the letter is included in the word\n",
      "h_ _ _ _ \n",
      "Please, enter a letter: o\n",
      "Correct, the letter is included in the word\n",
      "ho_ _ _ \n",
      "Please, enter a letter: u\n",
      "Correct, the letter is included in the word\n",
      "hou_ _ \n",
      "Please, enter a letter: s\n",
      "Correct, the letter is included in the word\n",
      "hous_ \n",
      "Please, enter a letter: e\n",
      "Correct, the letter is included in the word\n",
      "house\n",
      "Congratulations! You win! :)\n"
     ]
    }
   ],
   "source": [
    "print(\"Let's try to solve the hangman game\")\n",
    "hiddenword = \"house\"\n",
    "usuword = \"\"\n",
    "usuletter = \"\"\n",
    "lifes = 11\n",
    "while lifes >0:\n",
    "    wrong = 0\n",
    "    for letter in hiddenword:\n",
    "        if letter in usuword:\n",
    "            print(letter, end = \"\")\n",
    "        else:\n",
    "            print(\"_ \", end = \"\")\n",
    "            wrong += 1\n",
    "    if wrong == 0:\n",
    "        print(\"\\nCongratulations! You win! :)\")\n",
    "        break\n",
    "    usuletter = (input(\"\\nPlease, enter a letter: \"))\n",
    "    '''\n",
    "    while type(usuletter) != str:\n",
    "        try:\n",
    "            usuletter = str(input(\"\\nPlease, enter a letter: \"))\n",
    "        except: \n",
    "            print(\"That's not a valid letter. Please try again...\")  '''\n",
    "    if usuletter in usuword:\n",
    "        print(\"You have already used this letter\")\n",
    "    elif usuletter in hiddenword:\n",
    "        print(\"Correct, the letter is included in the word\")\n",
    "        usuword += usuletter\n",
    "    elif usuletter not in hiddenword:\n",
    "        lifes = lifes - 1\n",
    "        print(\"Oh no! The\", usuletter, \"is not included in the word\" )\n",
    "        print(\"You have \", lifes, \" lifes.\")\n",
    "        usuword += usuletter\n",
    "    if lifes == 0:\n",
    "        print(\"Game over\")\n",
    "        print(\"You lose!\")"
   ]
  },
  {
   "cell_type": "code",
   "execution_count": null,
   "metadata": {},
   "outputs": [],
   "source": []
  }
 ],
 "metadata": {
  "kernelspec": {
   "display_name": "Python 3",
   "language": "python",
   "name": "python3"
  },
  "language_info": {
   "codemirror_mode": {
    "name": "ipython",
    "version": 3
   },
   "file_extension": ".py",
   "mimetype": "text/x-python",
   "name": "python",
   "nbconvert_exporter": "python",
   "pygments_lexer": "ipython3",
   "version": "3.8.6"
  }
 },
 "nbformat": 4,
 "nbformat_minor": 4
}
